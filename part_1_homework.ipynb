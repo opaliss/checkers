{
 "cells": [
  {
   "cell_type": "markdown",
   "metadata": {},
   "source": [
    "# Part I: Questions (20 points each)\n",
    "## Opal Issan\n",
    "### Due: Oct 22nd, 2020. \n",
    "\n",
    "\n",
    "Single Programmer Affidavit\n",
    "I the undersigned promise that the attached assignment is my own work. While I was free to discuss ideas with others, \n",
    "the work contained is my own. I recognize that should this not be the case, I will be subject to penalties as outlined \n",
    "in the course syllabus.\n",
    "\n",
    "Programmer: Opal Issan: Oct, 2020. "
   ]
  },
  {
   "cell_type": "markdown",
   "metadata": {},
   "source": [
    "# Question 1\n",
    "1. A common strategy in tic-tac-toe is the so-called 3 corners strategy where a player\n",
    "places their symbol in 3 corners leaving two paths to win.\n",
    "How could we use a transposition table to reduce the search space in a case like\n",
    "this?\n",
    "\n",
    "\n",
    "## Answer:\n",
    "One should favor states in transposition table. Hence, in the transposition table store all the states where one has an (x/o) in 3 corners so when the option arrises the player will make a move that will agree with the transposition table."
   ]
  },
  {
   "cell_type": "markdown",
   "metadata": {},
   "source": [
    "# Question 2"
   ]
  },
  {
   "cell_type": "markdown",
   "metadata": {},
   "source": [
    "Chance nodes Γ and Ψ have outcomes: A, B, C, and D for Γ and E and F for Ψ.\n",
    "Given the following table of probabilities and utilities, would a player maximize\n",
    "their utility by selecting Γ or Ψ?"
   ]
  },
  {
   "cell_type": "markdown",
   "metadata": {},
   "source": [
    "![](q2_ss.png)"
   ]
  },
  {
   "cell_type": "markdown",
   "metadata": {},
   "source": [
    "## Answer: \n",
    "\n",
    "E[Γ] = $P(A)\\cdot f(A) + P(B)\\cdot f(B) + P(C)\\cdot f(C) + P(D)\\cdot f(D)$ = \n",
    "       $.35 \\cdot 10 + .5 \\cdot 15 + .05 \\cdot 29 + 0.1 \\cdot 14 = 13.85$\n",
    "       \n",
    "E[Ψ] = $P(E)\\cdot f(E) + P(F)\\cdot f(F)$ = \n",
    "        $.25 \\cdot 18 + .75 \\cdot 13 = 14.25$\n",
    "        \n",
    "Hence, the player will maximize their utility by selecting Ψ. "
   ]
  },
  {
   "cell_type": "code",
   "execution_count": 2,
   "metadata": {},
   "outputs": [
    {
     "data": {
      "text/plain": [
       "13.85"
      ]
     },
     "execution_count": 2,
     "metadata": {},
     "output_type": "execute_result"
    }
   ],
   "source": [
    ".35*10 + .5*15 + .05*29 + 0.1*14 "
   ]
  },
  {
   "cell_type": "code",
   "execution_count": 3,
   "metadata": {},
   "outputs": [
    {
     "data": {
      "text/plain": [
       "14.25"
      ]
     },
     "execution_count": 3,
     "metadata": {},
     "output_type": "execute_result"
    }
   ],
   "source": [
    ".25*18 + .75*13"
   ]
  },
  {
   "cell_type": "markdown",
   "metadata": {},
   "source": [
    "# Question 3\n",
    "\n",
    "The CheckerBoard class in the programming assignment below cannot detect\n",
    "stalemates that occur when the board is in the same configuration three different\n",
    "times. How could one modify the class to detect this efficiently? (No\n",
    "implementation is required, just well laid out plan that could be implemented by\n",
    "any skilled computer scientist.)"
   ]
  },
  {
   "cell_type": "markdown",
   "metadata": {},
   "source": [
    "## Answer: \n",
    "Create a hashtable and check if the configuration of the board occured in the past.  "
   ]
  },
  {
   "cell_type": "code",
   "execution_count": null,
   "metadata": {},
   "outputs": [],
   "source": []
  }
 ],
 "metadata": {
  "kernelspec": {
   "display_name": "Python 3",
   "language": "python",
   "name": "python3"
  },
  "language_info": {
   "codemirror_mode": {
    "name": "ipython",
    "version": 3
   },
   "file_extension": ".py",
   "mimetype": "text/x-python",
   "name": "python",
   "nbconvert_exporter": "python",
   "pygments_lexer": "ipython3",
   "version": "3.7.7"
  }
 },
 "nbformat": 4,
 "nbformat_minor": 4
}
